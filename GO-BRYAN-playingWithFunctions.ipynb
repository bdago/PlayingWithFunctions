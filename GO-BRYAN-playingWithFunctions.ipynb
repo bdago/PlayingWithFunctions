{
 "cells": [
  {
   "cell_type": "markdown",
   "id": "b311cd50-76d0-4eff-aacf-c954d7783de3",
   "metadata": {},
   "source": [
    "# Assignment: Playing with Functions\n",
    "\n",
    "## Instructions\n",
    "\n",
    "This is the template file for the assignment of Module 4 called \"Playing with Functions.\" Please carefully follow the instructions below.\n",
    "\n",
    "1. Rename this file by filling out your surname and first name in the file name. For example, if your surname is Ilagan and if your first name is Joben, then rename the file to ILAGAN-JOBEN-playingWithFunctions.ipynb.\n",
    "2. Fill out the markdown cell just above `Problem 1` with your student details as indicated.  \n",
    "3. To submit this file, first, upload your file to your GitHub repository and, second, submit your repository link to the assignment on Canvas.\n"
   ]
  },
  {
   "cell_type": "markdown",
   "id": "72180ce5-a105-465d-930f-b624c6c71238",
   "metadata": {},
   "source": [
    "## Student Details\n",
    "\n",
    "ID Number: 202343 \n",
    "Surname:  GO\n",
    "Year and Course:  2 BS ITE"
   ]
  },
  {
   "cell_type": "markdown",
   "id": "7843e78a-c77f-4662-900c-714330ada001",
   "metadata": {},
   "source": [
    "## Problem 1\n",
    "## Factorial (1 point)\n",
    "\n",
    "The **factorial** of a number is the product of that number and all the numbers below it. For example, 5 factorial (denoted 5! in math) is 5 * 4 * 3 * 2 * 1, which is 120.  \n",
    "\n",
    "**Write a function called `problem_1` that takes one positional argument `number`. The function should return  the factorial of `number` as an integer.**\n",
    "\n",
    "Example input/output:  \n",
    "`problem_1(5)` => `120`  \n",
    "`problem_1(10)` => `3628800`  "
   ]
  },
  {
   "cell_type": "code",
   "execution_count": null,
   "id": "1a62b7a0-5d38-42dd-8cb8-ced94be5455d",
   "metadata": {},
   "outputs": [],
   "source": [
    "num = int(input(\"problem_1 \"))\n",
    "\n",
    "def problem_1(num):\n",
    "    if num == 0:\n",
    "        return 1\n",
    "    else:\n",
    "        return num*problem_1(num-1)\n",
    "\n",
    "print(int(problem_1(num)))"
   ]
  },
  {
   "cell_type": "markdown",
   "id": "b95d08a5-e4f9-4bb4-8e18-e09e629df96b",
   "metadata": {},
   "source": [
    "## Problem 2\n",
    "## Guessing Game (2 points) \n",
    "\n",
    "Recall that we use `input()` to ask for user input.  \n",
    "\n",
    "**Write a function called `problem_2` that takes one positional argument `passphrase`. The function should ask the user to enter the passphrase with `input()`. If the user enters the correct passphrase, the function should return the integer `1`. If the user enters the wrong passphrase, the function should keep asking them for the passphrase. If the user gets the passphrase wrong 3 times, the function should return the integer `0`.**  \n",
    "\n",
    "Example input/output:  \n",
    "\n",
    "Function input:  \n",
    "`problem_2(\"chums\")`  \n",
    "Simulated user input:  \n",
    "`joben`  \n",
    "`chums`  \n",
    "Output:  \n",
    "`1`  \n",
    "\n",
    "Function input:  \n",
    "`problem_2(\"annika\")`  \n",
    "Simulated user input:  \n",
    "`joe`  \n",
    "`earl`  \n",
    "`niks`  \n",
    "Output:  \n",
    "`0`"
   ]
  },
  {
   "cell_type": "code",
   "execution_count": null,
   "id": "948e9ab7-85e3-417e-914d-c1c27bdbfcdb",
   "metadata": {},
   "outputs": [],
   "source": [
    "attempts=0\n",
    "passphrase = \"bryan\"\n",
    "\n",
    "while(attempts<=2):\n",
    "    guess = input(\"problem_2 \")\n",
    "    if guess == passphrase:\n",
    "        print(1)\n",
    "        break\n",
    "    elif (attempts == 2):\n",
    "        print(0)\n",
    "        break\n",
    "    else:\n",
    "        attempts = attempts + 1"
   ]
  },
  {
   "cell_type": "markdown",
   "id": "1b434f41-8e16-4a4d-a8d0-96be3ed2a309",
   "metadata": {},
   "source": [
    "## Problem 3\n",
    "## Temperature Converter (3 points)\n",
    "\n",
    "A common beginner's exercise is to write a function that can convert a temperature value from one format, such as Fahrenheit, to another, such as Celsius.  \n",
    "\n",
    "In this problem, extend this idea to convert temperatures freely to and from any of the following formats: Celsius, Fahrenheit, and Kelvin.  \n",
    "\n",
    "**Write a function called `problem_3` that takes three positional arguments: (float) `temp`, (string) `original_format`, (string) `new_format`. The function should convert `temp`, which is represented in `original_format`, to its equivalent value in the `new_format.`**  \n",
    "\n",
    "Example input/output:  \n",
    "`problem_3(0.0, \"Celsius\", \"Fahrenheit\")` => `32.0`  \n",
    "`problem_3(500.0, \"Kelvin\", \"Fahrenheit\")` => `440.33`  \n",
    "`problem_3(273.0, \"Kelvin\", \"Celsius\")` => `0.0`  \n",
    "\n",
    "For your convenience:  \n",
    "1. The accuracy of your float outputs will only be evaluated to within 4 decimal places. "
   ]
  },
  {
   "cell_type": "code",
   "execution_count": null,
   "id": "652183db-4f42-40cf-b8cf-f0120914b86b",
   "metadata": {},
   "outputs": [],
   "source": [
    "temp = int(input(\"Insert Temperature Number \"))\n",
    "original_format = str(input(\"Insert Temperature \"))\n",
    "new_format = str(input(\"Insert New Temperature \"))\n",
    "\n",
    "\n",
    "def problem_3(temp, original_format, new_format):\n",
    "    if original_format == \"celsius\" and new_format == \"fahrenheit\":\n",
    "        conversion = temp*9/5+32\n",
    "        return float(conversion)\n",
    "    if original_format == \"celsius\" and new_format == \"kelvin\":\n",
    "        conversion = temp+273.15\n",
    "        return float(conversion)\n",
    "    if original_format == \"fahrenheit\" and new_format == \"celsius\":\n",
    "        conversion = (temp-32)*9/5\n",
    "        return float(conversion)\n",
    "    if original_format == \"fahrenheit\" and new_format == \"kelvin\":\n",
    "        conversion = (temp-32)*9/5+273.15\n",
    "        return float(conversion)\n",
    "    if original_format == \"kelvin\" and new_format == \"celsius\":\n",
    "        conversion = temp-273.15\n",
    "        return float(conversion)\n",
    "    if original_format == \"kelvin\" and new_format == \"fahrenheit\":\n",
    "        conversion = (temp-273.15)*9/5+32\n",
    "        return float(conversion)\n",
    "    else:\n",
    "        return False\n",
    "print(problem_3(temp, original_format, new_format))"
   ]
  },
  {
   "cell_type": "markdown",
   "id": "f12ed1ad-7738-4f4a-aa35-8f7ee87ea395",
   "metadata": {},
   "source": [
    "## Problem 4\n",
    "## Exact Change (4 points)\n",
    "\n",
    "Part of a cashier's job is to give exact change to customers. It can be difficult to mentally tally how many coins of each type (i.e., 1 peso, 25 centavos, 10 centavos, etc.) to give to a customer.  \n",
    "\n",
    "**Write a function called `problem_4` that takes 1 positional argument `amount` in centavos. The function should return a string that describes the appropriate amounts of each type of coin to give to the customer. The string should be formatted as follows:**  \n",
    "\n",
    "`\"1P:{num}/25C:{num}/10C:{num}/5C:{num}/1C:{num}\"`  \n",
    "\n",
    "**Use the fewest number of total coins possible.**  \n",
    "\n",
    "Example input/output:  \n",
    "`problem_4(105)` => `\"1P:1/25C:0/10C:0/5C:1/1C:0\"`  \n",
    "`problem_4(69)` => `\"1P:0/25C:2/10C:1/5C:1/1C:4\"`  "
   ]
  },
  {
   "cell_type": "code",
   "execution_count": null,
   "id": "3899279e-d77b-49f6-a7ed-da43c631fff4",
   "metadata": {},
   "outputs": [],
   "source": [
    "amount = int(input(\"problem_4 \"))\n",
    "\n",
    "def problem_4(amount):\n",
    "    a = 0\n",
    "    b = 0\n",
    "    c = 0\n",
    "    d = 0\n",
    "    e = 0\n",
    "    while True:\n",
    "        if amount >= 100:\n",
    "            amount = amount - 100\n",
    "            a = a+1\n",
    "        elif 75 >= amount >= 25:\n",
    "            b = b+1\n",
    "            amount = amount - 25\n",
    "        elif 20 >= amount >= 10:\n",
    "            c = c+1\n",
    "            amount = amount - 10\n",
    "        elif amount >= 5:\n",
    "            d = d+1\n",
    "            amount = amount - 5\n",
    "        elif 0 < amount <5:\n",
    "            e = e+1\n",
    "            amount = amount - 1\n",
    "        else:\n",
    "            return (\"1P:\",a,\"/\",\"25C:\",b,\"/\",\"10C:\",c,\"/\",\"5C:\",d,\"/\",\"1C:\",e,\"/\")\n",
    "        \n",
    "print(problem_4(amount))"
   ]
  },
  {
   "cell_type": "markdown",
   "id": "a45e4549-fb1a-4a4e-aceb-1eb46ceaa2c2",
   "metadata": {},
   "source": [
    "## Problem 5\n",
    "## Invert Capitalization (3 points)  \n",
    "\n",
    "**Write a function called `problem_5` that takes 1 positional argument (string) `message`. The function should return a string whose uppercase letters are now lowercase and whose lowercase letters are now uppercase. Spaces should be left alone.**  \n",
    "\n",
    "Example input/output:  \n",
    "`problem_5(\"Test Me\")` => `\"tEST mE\"`  \n",
    "`problem_5(\"asSiGnmENt\")` => `\"ASsIgNMenT\"`  \n",
    "\n",
    "For your convenience:  \n",
    "1. The message will only ever consist of spaces, lowercase letters, and uppercase letters.  \n",
    "\n",
    "Hint: Research on `ord()` and `chr()`.  "
   ]
  },
  {
   "cell_type": "code",
   "execution_count": null,
   "id": "df8d9597-cca1-44ef-b1c8-a0050d512d45",
   "metadata": {},
   "outputs": [],
   "source": [
    "a = input(\"problem_5: \")\n",
    "\n",
    "for char in a:\n",
    "    if 90 >= ord(char) >= 65:\n",
    "        print(char.lower(), end=\"\")\n",
    "    if 122 >= ord(char) >= 97:\n",
    "        print(char.upper(), end=\"\")\n",
    "    elif char == \" \":\n",
    "        print(end=\" \")"
   ]
  },
  {
   "cell_type": "markdown",
   "id": "07920e04",
   "metadata": {},
   "source": [
    "Problem 5 Alternative\n"
   ]
  },
  {
   "cell_type": "code",
   "execution_count": null,
   "id": "4fe0eee3",
   "metadata": {},
   "outputs": [],
   "source": [
    "a = input(\"problem_5: \")\n",
    "\n",
    "def problem_5(a):\n",
    "    return a.swapcase()\n",
    "print(problem_5(a))"
   ]
  },
  {
   "cell_type": "code",
   "execution_count": null,
   "id": "872d2f9b",
   "metadata": {},
   "outputs": [],
   "source": []
  }
 ],
 "metadata": {
  "kernelspec": {
   "display_name": "Python 3",
   "language": "python",
   "name": "python3"
  },
  "language_info": {
   "codemirror_mode": {
    "name": "ipython",
    "version": 3
   },
   "file_extension": ".py",
   "mimetype": "text/x-python",
   "name": "python",
   "nbconvert_exporter": "python",
   "pygments_lexer": "ipython3",
   "version": "3.8.8"
  }
 },
 "nbformat": 4,
 "nbformat_minor": 5
}
